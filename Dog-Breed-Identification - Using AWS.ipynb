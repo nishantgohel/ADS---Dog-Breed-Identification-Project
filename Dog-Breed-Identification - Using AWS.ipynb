{
 "cells": [
  {
   "cell_type": "code",
   "execution_count": 5,
   "metadata": {},
   "outputs": [],
   "source": [
    "# This notebook working is same as Dog-Breed-Identification - Using Keras but instead of using pretrained models of Keras \n",
    "# with bottleneck features we are designing and training our own CNN using AWS GPU and finding out accuracy on our dataset"
   ]
  },
  {
   "cell_type": "markdown",
   "metadata": {},
   "source": [
    "# Downloading Dataset"
   ]
  },
  {
   "cell_type": "markdown",
   "metadata": {},
   "source": [
    "Download the data from the following link\n",
    "\n",
    "Dog Images : https://s3-us-west-1.amazonaws.com/udacity-aind/dog-project/dogImages.zip\n",
    "\n",
    "\n",
    "Download the dog dataset. Unzip the folder and place it in the repo, at location <i>path/to/dog-project/dogImages</i>"
   ]
  },
  {
   "cell_type": "markdown",
   "metadata": {},
   "source": [
    "# Setting up AWS GPU"
   ]
  },
  {
   "cell_type": "markdown",
   "metadata": {},
   "source": [
    "Instead of training our model on a local CPU (or GPU), we have used Amazon Web Services to launch an EC2 GPU instance. In order to this you need to have a AWS account. Once you have created account successfully you will need to raise a ticket to AWS support center requesting to have access of <i>p2.xlarge</i> instance.\n",
    " \n",
    "After raising the ticket AWS will revert you back in 24 hrs for your access to the GPU. Once you receive the mail saying that your request has been approved follow the links below to setup GPU instance on Amazon Web Service.\n",
    " \n",
    "- Running Jupyter notebooks on GPU on AWS a starter guide : https://blog.keras.io/running-jupyter-notebooks-on-gpu-on-aws-a-starter-guide.html\n",
    "- Upload data from local machine to EC2 Instance : https://blog.dephyned.com/2014/01/30/upload-folder-from-local-machine-to-ec2-instance/\n",
    "\n"
   ]
  },
  {
   "cell_type": "code",
   "execution_count": 2,
   "metadata": {},
   "outputs": [
    {
     "name": "stderr",
     "output_type": "stream",
     "text": [
      "/home/ubuntu/anaconda3/envs/tensorflow_p36/lib/python3.6/site-packages/matplotlib/__init__.py:1067: UserWarning: Duplicate key in file \"/home/ubuntu/.config/matplotlib/matplotlibrc\", line #2\n",
      "  (fname, cnt))\n",
      "/home/ubuntu/anaconda3/envs/tensorflow_p36/lib/python3.6/site-packages/matplotlib/__init__.py:1067: UserWarning: Duplicate key in file \"/home/ubuntu/.config/matplotlib/matplotlibrc\", line #3\n",
      "  (fname, cnt))\n",
      "/home/ubuntu/anaconda3/envs/tensorflow_p36/lib/python3.6/site-packages/h5py/__init__.py:36: FutureWarning: Conversion of the second argument of issubdtype from `float` to `np.floating` is deprecated. In future, it will be treated as `np.float64 == np.dtype(float).type`.\n",
      "  from ._conv import register_converters as _register_converters\n",
      "Using TensorFlow backend.\n"
     ]
    }
   ],
   "source": [
    "%matplotlib inline  \n",
    "from sklearn.datasets import load_files       \n",
    "from keras.utils import np_utils\n",
    "import numpy as np\n",
    "from glob import glob\n",
    "import PIL"
   ]
  },
  {
   "cell_type": "markdown",
   "metadata": {},
   "source": [
    "# Checking the Hardware Availabilty on our EC2 Instance"
   ]
  },
  {
   "cell_type": "code",
   "execution_count": 3,
   "metadata": {},
   "outputs": [
    {
     "data": {
      "text/plain": [
       "[name: \"/device:CPU:0\"\n",
       " device_type: \"CPU\"\n",
       " memory_limit: 268435456\n",
       " locality {\n",
       " }\n",
       " incarnation: 251117513321490530, name: \"/device:GPU:0\"\n",
       " device_type: \"GPU\"\n",
       " memory_limit: 11286970368\n",
       " locality {\n",
       "   bus_id: 1\n",
       "   links {\n",
       "   }\n",
       " }\n",
       " incarnation: 3698123135871704480\n",
       " physical_device_desc: \"device: 0, name: Tesla K80, pci bus id: 0000:00:1e.0, compute capability: 3.7\"]"
      ]
     },
     "execution_count": 3,
     "metadata": {},
     "output_type": "execute_result"
    }
   ],
   "source": [
    "from tensorflow.python.client import device_lib\n",
    "\n",
    "device_lib.list_local_devices()"
   ]
  },
  {
   "cell_type": "markdown",
   "metadata": {},
   "source": [
    "# Importing Dog Dataset\n",
    "\n",
    "In the code cell below, we import a dataset of dog images. We populate a few variables through the use of the **load_files** function from the scikit-learn library:\n",
    "\n",
    "-  **train_files**, **valid_files**, **test_files** - numpy arrays containing file paths to images\n",
    "\n",
    "-  **train_targets**, **valid_targets**, **test_targets** - numpy arrays containing onehot-encoded classification labels\n",
    "\n",
    "-  **dog_names** - list of string-valued dog breed names for translating labels"
   ]
  },
  {
   "cell_type": "code",
   "execution_count": 4,
   "metadata": {},
   "outputs": [
    {
     "name": "stdout",
     "output_type": "stream",
     "text": [
      "There are 133 total dog categories.\n",
      "There are 8351 total dog images.\n",
      "\n",
      "There are 6680 training dog images.\n",
      "There are 835 validation dog images.\n",
      "There are 836 test dog images.\n"
     ]
    }
   ],
   "source": [
    "# define function to load train, test, and validation datasets\n",
    "def load_dataset(path):\n",
    "    data = load_files(path)\n",
    "    dog_files = np.array(data['filenames'])\n",
    "    dog_targets = np_utils.to_categorical(np.array(data['target']), 133)\n",
    "    return dog_files, dog_targets\n",
    "\n",
    "# load train, test, and validation datasets\n",
    "train_files, train_targets = load_dataset('dogImages/train')\n",
    "valid_files, valid_targets = load_dataset('dogImages/valid')\n",
    "test_files, test_targets = load_dataset('dogImages/test')\n",
    "\n",
    "# load list of dog names\n",
    "dog_names = [item[20:-1] for item in sorted(glob(\"dogImages/train/*/\"))]\n",
    "\n",
    "# print statistics about the dataset\n",
    "print('There are %d total dog categories.' % len(dog_names))\n",
    "print('There are %s total dog images.\\n' % len(np.hstack([train_files, valid_files, test_files])))\n",
    "print('There are %d training dog images.' % len(train_files))\n",
    "print('There are %d validation dog images.' % len(valid_files))\n",
    "print('There are %d test dog images.'% len(test_files))"
   ]
  },
  {
   "cell_type": "markdown",
   "metadata": {},
   "source": [
    "# Pre-processing the Data"
   ]
  },
  {
   "cell_type": "markdown",
   "metadata": {},
   "source": [
    "\n",
    "When using TensorFlow as backend, Keras CNNs require a 4D array (which we'll also refer to as a 4D tensor) as input, with shape <br><br>\n",
    "\n",
    "<center>(nb_samples, rows,columns,channels)</center>\n",
    "\n",
    "where **nb_samples** corresponds to the total number of images, and rows, columns & channels correspond to the number of rows, columns, and channels for each image, respectively.<br>\n",
    "\n",
    "The **path_to_tensor** function below takes a string-valued file path to a color image as input and returns a 4D tensor suitable for supplying to a Keras CNN. The function first loads the image and resizes it to a square image that is 224 X 224 pixels. Next, the image is converted to an array, which is then resized to a 4D tensor. In this case, since we are working with color images, each image has three channels. Likewise, since we are processing a single image, the returned tensor will always have shape<br>\n",
    "\n",
    "<center>(1, 224, 224, 3).</center>\n",
    "\n",
    "The **paths_to_tensor** function takes a numpy array of string-valued image paths as input and returns a 4D tensor with shape<br><br>\n",
    "\n",
    "<center>(nb_samples, 224, 224, 3).</center>\n",
    "\n",
    "Here, **nb_samples** can be a single image or an array of image paths.<br>"
   ]
  },
  {
   "cell_type": "code",
   "execution_count": 5,
   "metadata": {},
   "outputs": [],
   "source": [
    "from keras.preprocessing import image                  \n",
    "from tqdm import tqdm\n",
    "\n",
    "def path_to_tensor(img_path):\n",
    "    # loads RGB image as PIL.Image.Image type\n",
    "    img = image.load_img(img_path, target_size=(224, 224))\n",
    "    # convert PIL.Image.Image type to 3D tensor with shape (224, 224, 3)\n",
    "    x = image.img_to_array(img)\n",
    "    # convert 3D tensor to 4D tensor with shape (1, 224, 224, 3) and return 4D tensor\n",
    "    return np.expand_dims(x, axis=0)\n",
    "\n",
    "def paths_to_tensor(img_paths):\n",
    "    list_of_tensors = [path_to_tensor(img_path) for img_path in tqdm(img_paths)]\n",
    "    return np.vstack(list_of_tensors)"
   ]
  },
  {
   "cell_type": "markdown",
   "metadata": {},
   "source": [
    "Now we rescale the images by dividing every pixel in every image by 255\n",
    "\n",
    "Why we need rescaling ?\n",
    "\n",
    "Our original images consist in RGB coefficients in the 0-255, but such values would be too high for our model to process (given a typical learning rate), so we target values between 0 and 1 instead by scaling with a 1/255 factor"
   ]
  },
  {
   "cell_type": "code",
   "execution_count": 6,
   "metadata": {},
   "outputs": [
    {
     "name": "stderr",
     "output_type": "stream",
     "text": [
      "100%|██████████| 6680/6680 [00:50<00:00, 132.12it/s]\n",
      "100%|██████████| 835/835 [00:05<00:00, 147.26it/s]\n",
      "100%|██████████| 836/836 [00:05<00:00, 148.92it/s]\n"
     ]
    }
   ],
   "source": [
    "from PIL import ImageFile                            \n",
    "ImageFile.LOAD_TRUNCATED_IMAGES = True                 \n",
    "\n",
    "train_tensors = paths_to_tensor(train_files).astype('float32')/255\n",
    "valid_tensors = paths_to_tensor(valid_files).astype('float32')/255\n",
    "test_tensors = paths_to_tensor(test_files).astype('float32')/255"
   ]
  },
  {
   "cell_type": "markdown",
   "metadata": {},
   "source": [
    "# Augmenting the Images"
   ]
  },
  {
   "cell_type": "markdown",
   "metadata": {},
   "source": [
    "Image Augmentation for Deep Learning\n",
    "\n",
    "Deep networks need large amount of training data to achieve good performance. To build a powerful image classifier using very little training data, image augmentation is usually required to boost the performance of deep networks. Image augmentation artificially creates training images through different ways of processing or combination of multiple processing, such as random rotation, shifts, shear and flips, etc."
   ]
  },
  {
   "cell_type": "code",
   "execution_count": 7,
   "metadata": {},
   "outputs": [],
   "source": [
    "from keras.preprocessing.image import ImageDataGenerator\n",
    "\n",
    "# create and configure augmented image generator\n",
    "datagen = ImageDataGenerator(\n",
    "    width_shift_range=0.1,  # randomly shift images horizontally (10% of total width)\n",
    "    height_shift_range=0.1,  # randomly shift images vertically (10% of total height)\n",
    "    horizontal_flip=True) # randomly flip images horizontally\n",
    "\n",
    "# fit augmented image generator on data\n",
    "datagen.fit(train_tensors)"
   ]
  },
  {
   "cell_type": "markdown",
   "metadata": {},
   "source": [
    "# Defining The CNN Model Architecture"
   ]
  },
  {
   "cell_type": "code",
   "execution_count": 8,
   "metadata": {},
   "outputs": [
    {
     "name": "stdout",
     "output_type": "stream",
     "text": [
      "_________________________________________________________________\n",
      "Layer (type)                 Output Shape              Param #   \n",
      "=================================================================\n",
      "batch_normalization_1 (Batch (None, 224, 224, 3)       12        \n",
      "_________________________________________________________________\n",
      "conv2d_1 (Conv2D)            (None, 222, 222, 16)      448       \n",
      "_________________________________________________________________\n",
      "max_pooling2d_1 (MaxPooling2 (None, 111, 111, 16)      0         \n",
      "_________________________________________________________________\n",
      "batch_normalization_2 (Batch (None, 111, 111, 16)      64        \n",
      "_________________________________________________________________\n",
      "conv2d_2 (Conv2D)            (None, 109, 109, 32)      4640      \n",
      "_________________________________________________________________\n",
      "max_pooling2d_2 (MaxPooling2 (None, 54, 54, 32)        0         \n",
      "_________________________________________________________________\n",
      "batch_normalization_3 (Batch (None, 54, 54, 32)        128       \n",
      "_________________________________________________________________\n",
      "conv2d_3 (Conv2D)            (None, 52, 52, 64)        18496     \n",
      "_________________________________________________________________\n",
      "max_pooling2d_3 (MaxPooling2 (None, 26, 26, 64)        0         \n",
      "_________________________________________________________________\n",
      "batch_normalization_4 (Batch (None, 26, 26, 64)        256       \n",
      "_________________________________________________________________\n",
      "conv2d_4 (Conv2D)            (None, 24, 24, 128)       73856     \n",
      "_________________________________________________________________\n",
      "max_pooling2d_4 (MaxPooling2 (None, 12, 12, 128)       0         \n",
      "_________________________________________________________________\n",
      "batch_normalization_5 (Batch (None, 12, 12, 128)       512       \n",
      "_________________________________________________________________\n",
      "conv2d_5 (Conv2D)            (None, 10, 10, 256)       295168    \n",
      "_________________________________________________________________\n",
      "max_pooling2d_5 (MaxPooling2 (None, 5, 5, 256)         0         \n",
      "_________________________________________________________________\n",
      "batch_normalization_6 (Batch (None, 5, 5, 256)         1024      \n",
      "_________________________________________________________________\n",
      "global_average_pooling2d_1 ( (None, 256)               0         \n",
      "_________________________________________________________________\n",
      "dense1 (Dense)               (None, 256)               65792     \n",
      "_________________________________________________________________\n",
      "activation_1 (Activation)    (None, 256)               0         \n",
      "_________________________________________________________________\n",
      "dropout_1 (Dropout)          (None, 256)               0         \n",
      "_________________________________________________________________\n",
      "dense_1 (Dense)              (None, 133)               34181     \n",
      "=================================================================\n",
      "Total params: 494,577\n",
      "Trainable params: 493,579\n",
      "Non-trainable params: 998\n",
      "_________________________________________________________________\n"
     ]
    }
   ],
   "source": [
    "from keras.layers import Conv2D, MaxPooling2D, GlobalAveragePooling2D\n",
    "from keras.layers import Dropout, Flatten, Dense, Activation\n",
    "from keras.models import Sequential\n",
    "from keras.layers.normalization import BatchNormalization\n",
    "\n",
    "model = Sequential()\n",
    "model.add(BatchNormalization(input_shape=(224, 224, 3)))\n",
    "model.add(Conv2D(filters=16, kernel_size=3, kernel_initializer='he_normal', activation='relu'))\n",
    "model.add(MaxPooling2D(pool_size=2))\n",
    "model.add(BatchNormalization())\n",
    "\n",
    "model.add(Conv2D(filters=32, kernel_size=3, kernel_initializer='he_normal', activation='relu'))\n",
    "model.add(MaxPooling2D(pool_size=2))5\n",
    "model.add(BatchNormalization())\n",
    "\n",
    "model.add(Conv2D(filters=64, kernel_size=3, kernel_initializer='he_normal', activation='relu'))\n",
    "model.add(MaxPooling2D(pool_size=2))\n",
    "model.add(BatchNormalization())\n",
    "\n",
    "model.add(Conv2D(filters=128, kernel_size=3, kernel_initializer='he_normal', activation='relu'))\n",
    "model.add(MaxPooling2D(pool_size=2))\n",
    "model.add(BatchNormalization())\n",
    "\n",
    "model.add(Conv2D(filters=256, kernel_size=3, kernel_initializer='he_normal', activation='relu'))\n",
    "model.add(MaxPooling2D(pool_size=2))\n",
    "model.add(BatchNormalization())\n",
    "\n",
    "model.add(GlobalAveragePooling2D())\n",
    "\n",
    "\n",
    "# Dense layer with 256 neurons \n",
    "model.add(Dense(256, kernel_initializer='he_normal',name='dense1'))\n",
    "model.add(Activation('relu'))\n",
    "model.add(Dropout(0.5))\n",
    "\n",
    "\n",
    "model.add(Dense(133, activation='softmax'))\n",
    "\n",
    "model.summary()"
   ]
  },
  {
   "cell_type": "markdown",
   "metadata": {},
   "source": [
    "### About The CNN Model\n",
    "\n",
    "\n",
    "Convolutional neural networks (CNNs) consist of multiple layers of receptive fields. These are small neuron collections which process portions of the input image. The outputs of these collections are then tiled so that their input regions overlap, to obtain a better representation of the original image; this is repeated for every such layer. One major advantage of convolutional networks is the use of shared weight in convolutional layers, which means that the same filter (weights bank) is used for each pixel in the layer; this both reduces memory footprint and improves performance. Different layers in CNN include Convolution, Dense,Batch Normalization, Pooling and Fully Connected layers.\n",
    "\n",
    "<img style=\"border-width:0\" src=\"https://cdn-images-1.medium.com/max/2000/1*XbuW8WuRrAY5pC4t-9DZAQ.jpeg\" />\n",
    "\n",
    "\n",
    "**Convolution:**\n",
    "\n",
    "The primary purpose of Convolution in case of a ConvNet is to extract features from the input image. Filters act as Feature detectors. The value of the filter, is in fact, not manually provided but the machine chooses the suitable value by training and changing its weights.\n",
    "\n",
    "**BatchNormalization:**\n",
    "\n",
    "A batch normalization layer normalizes each input channel across a mini-batch. The layer first normalizes the activations of each channel by subtracting the mini-batch mean and dividing by the mini-batch standard deviation. Then, the layer shifts the input by a learnable offset β and scales it by a learnable scale factor γ. Using batch normalization layers between convolutional layers and nonlinearities, such as ReLU layers, speeds up training of convolutional neural networks and reduces the sensitivity to network initialization.\n",
    "\n",
    "**Dense:**\n",
    "\n",
    "Dense layer comprises of the traditional fully connected neural network which classifies the input to their respective classes\n",
    "\n",
    "\n",
    "**Pooling**\n",
    "\n",
    "Pooling layer reduces the dimensionality of each feature map but retains the most important information. Pooling layer can be of different types: Max, Average, Sum etc.\n",
    "\n",
    "\n",
    "**Fully-Connected:**\n",
    "\n",
    "Finally, after several convolutional and max pooling layers, the high-level reasoning in the neural network is done via fully connected layers. A fully connected layer takes all neurons in the previous layer (be it fully connected, pooling, or convolutional) and connects it to every single neuron it has."
   ]
  },
  {
   "cell_type": "markdown",
   "metadata": {},
   "source": [
    "# Compiling the Model"
   ]
  },
  {
   "cell_type": "code",
   "execution_count": 9,
   "metadata": {},
   "outputs": [],
   "source": [
    "model.compile(optimizer='adam', loss='categorical_crossentropy', metrics=['accuracy'])"
   ]
  },
  {
   "cell_type": "code",
   "execution_count": 10,
   "metadata": {},
   "outputs": [
    {
     "name": "stdout",
     "output_type": "stream",
     "text": [
      "(6680, 224, 224, 3) (6680, 133)\n"
     ]
    }
   ],
   "source": [
    "print(train_tensors.shape, train_targets.shape)"
   ]
  },
  {
   "cell_type": "markdown",
   "metadata": {},
   "source": [
    "# Training the Model"
   ]
  },
  {
   "cell_type": "markdown",
   "metadata": {},
   "source": [
    "We will train the model in the code cell below and we are using model checkpointing to save the model that attains the best validation loss."
   ]
  },
  {
   "cell_type": "code",
   "execution_count": 11,
   "metadata": {
    "scrolled": true
   },
   "outputs": [
    {
     "name": "stdout",
     "output_type": "stream",
     "text": [
      "Epoch 1/20\n",
      "334/334 [==============================] - 79s 237ms/step - loss: 4.8443 - acc: 0.0241 - val_loss: 4.6170 - val_acc: 0.0383\n",
      "\n",
      "Epoch 00001: val_loss improved from inf to 4.61699, saving model to saved_models/weights.Assignment-4.5\n",
      "Epoch 2/20\n",
      "334/334 [==============================] - 76s 227ms/step - loss: 4.4520 - acc: 0.0475 - val_loss: 4.3040 - val_acc: 0.0743\n",
      "\n",
      "Epoch 00002: val_loss improved from 4.61699 to 4.30396, saving model to saved_models/weights.Assignment-4.5\n",
      "Epoch 3/20\n",
      "334/334 [==============================] - 76s 227ms/step - loss: 4.1983 - acc: 0.0636 - val_loss: 3.9580 - val_acc: 0.0850\n",
      "\n",
      "Epoch 00003: val_loss improved from 4.30396 to 3.95796, saving model to saved_models/weights.Assignment-4.5\n",
      "Epoch 4/20\n",
      "334/334 [==============================] - 76s 228ms/step - loss: 3.9889 - acc: 0.0873 - val_loss: 3.8462 - val_acc: 0.1174\n",
      "\n",
      "Epoch 00004: val_loss improved from 3.95796 to 3.84616, saving model to saved_models/weights.Assignment-4.5\n",
      "Epoch 5/20\n",
      "334/334 [==============================] - 76s 227ms/step - loss: 3.7777 - acc: 0.1145 - val_loss: 3.8214 - val_acc: 0.1222\n",
      "\n",
      "Epoch 00005: val_loss improved from 3.84616 to 3.82137, saving model to saved_models/weights.Assignment-4.5\n",
      "Epoch 6/20\n",
      "334/334 [==============================] - 76s 229ms/step - loss: 3.5944 - acc: 0.1377 - val_loss: 3.5721 - val_acc: 0.1521\n",
      "\n",
      "Epoch 00006: val_loss improved from 3.82137 to 3.57205, saving model to saved_models/weights.Assignment-4.5\n",
      "Epoch 7/20\n",
      "334/334 [==============================] - 76s 226ms/step - loss: 3.4150 - acc: 0.1650 - val_loss: 3.3118 - val_acc: 0.1880\n",
      "\n",
      "Epoch 00007: val_loss improved from 3.57205 to 3.31182, saving model to saved_models/weights.Assignment-4.5\n",
      "Epoch 8/20\n",
      "334/334 [==============================] - 76s 227ms/step - loss: 3.1908 - acc: 0.2055 - val_loss: 3.2851 - val_acc: 0.2012\n",
      "\n",
      "Epoch 00008: val_loss improved from 3.31182 to 3.28506, saving model to saved_models/weights.Assignment-4.5\n",
      "Epoch 9/20\n",
      "334/334 [==============================] - 76s 227ms/step - loss: 3.0087 - acc: 0.2361 - val_loss: 3.0829 - val_acc: 0.2467\n",
      "\n",
      "Epoch 00009: val_loss improved from 3.28506 to 3.08292, saving model to saved_models/weights.Assignment-4.5\n",
      "Epoch 10/20\n",
      "334/334 [==============================] - 76s 228ms/step - loss: 2.8788 - acc: 0.2597 - val_loss: 2.9939 - val_acc: 0.2731\n",
      "\n",
      "Epoch 00010: val_loss improved from 3.08292 to 2.99393, saving model to saved_models/weights.Assignment-4.5\n",
      "Epoch 11/20\n",
      "334/334 [==============================] - 76s 227ms/step - loss: 2.7108 - acc: 0.2937 - val_loss: 2.7545 - val_acc: 0.3042\n",
      "\n",
      "Epoch 00011: val_loss improved from 2.99393 to 2.75452, saving model to saved_models/weights.Assignment-4.5\n",
      "Epoch 12/20\n",
      "334/334 [==============================] - 77s 229ms/step - loss: 2.5682 - acc: 0.3165 - val_loss: 2.7249 - val_acc: 0.2874\n",
      "\n",
      "Epoch 00012: val_loss improved from 2.75452 to 2.72486, saving model to saved_models/weights.Assignment-4.5\n",
      "Epoch 13/20\n",
      "334/334 [==============================] - 77s 229ms/step - loss: 2.4311 - acc: 0.3479 - val_loss: 2.3822 - val_acc: 0.3641\n",
      "\n",
      "Epoch 00013: val_loss improved from 2.72486 to 2.38222, saving model to saved_models/weights.Assignment-4.5\n",
      "Epoch 14/20\n",
      "334/334 [==============================] - 76s 227ms/step - loss: 2.3424 - acc: 0.3672 - val_loss: 2.4323 - val_acc: 0.3665\n",
      "\n",
      "Epoch 00014: val_loss did not improve\n",
      "Epoch 15/20\n",
      "334/334 [==============================] - 76s 227ms/step - loss: 2.2058 - acc: 0.3948 - val_loss: 2.3112 - val_acc: 0.3796\n",
      "\n",
      "Epoch 00015: val_loss improved from 2.38222 to 2.31119, saving model to saved_models/weights.Assignment-4.5\n",
      "Epoch 16/20\n",
      "334/334 [==============================] - 76s 227ms/step - loss: 2.0824 - acc: 0.4204 - val_loss: 2.1857 - val_acc: 0.3988\n",
      "\n",
      "Epoch 00016: val_loss improved from 2.31119 to 2.18566, saving model to saved_models/weights.Assignment-4.5\n",
      "Epoch 17/20\n",
      "334/334 [==============================] - 76s 228ms/step - loss: 1.9812 - acc: 0.4434 - val_loss: 2.1535 - val_acc: 0.4072\n",
      "\n",
      "Epoch 00017: val_loss improved from 2.18566 to 2.15351, saving model to saved_models/weights.Assignment-4.5\n",
      "Epoch 18/20\n",
      "334/334 [==============================] - 76s 227ms/step - loss: 1.8874 - acc: 0.4663 - val_loss: 2.0070 - val_acc: 0.4731\n",
      "\n",
      "Epoch 00018: val_loss improved from 2.15351 to 2.00696, saving model to saved_models/weights.Assignment-4.5\n",
      "Epoch 19/20\n",
      "334/334 [==============================] - 76s 227ms/step - loss: 1.7618 - acc: 0.4973 - val_loss: 2.0100 - val_acc: 0.4635\n",
      "\n",
      "Epoch 00019: val_loss did not improve\n",
      "Epoch 20/20\n",
      "334/334 [==============================] - 76s 228ms/step - loss: 1.7194 - acc: 0.4975 - val_loss: 1.9250 - val_acc: 0.4922\n",
      "\n",
      "Epoch 00020: val_loss improved from 2.00696 to 1.92500, saving model to saved_models/weights.Assignment-4.5\n"
     ]
    }
   ],
   "source": [
    "from keras.callbacks import ModelCheckpoint  \n",
    "\n",
    "epochs = 20\n",
    "batch_size = 20\n",
    "\n",
    "\n",
    "checkpointer = ModelCheckpoint(filepath='saved_models/weights.Assignment-4.5', verbose=1, save_best_only=True)\n",
    "\n",
    "history = model.fit_generator(datagen.flow(train_tensors, train_targets, batch_size=batch_size),\n",
    "                    validation_data=(valid_tensors, valid_targets), \n",
    "                    steps_per_epoch=train_tensors.shape[0] // batch_size,\n",
    "                    epochs=epochs, callbacks=[checkpointer], verbose=1)"
   ]
  },
  {
   "cell_type": "code",
   "execution_count": 12,
   "metadata": {},
   "outputs": [],
   "source": [
    "model.load_weights('saved_models/weights.Assignment-4.5')"
   ]
  },
  {
   "cell_type": "markdown",
   "metadata": {},
   "source": [
    "# Calulating the Accuracy of Model"
   ]
  },
  {
   "cell_type": "code",
   "execution_count": 13,
   "metadata": {},
   "outputs": [
    {
     "name": "stdout",
     "output_type": "stream",
     "text": [
      "Test accuracy: 47.0096%\n"
     ]
    }
   ],
   "source": [
    "# get index of predicted dog breed for each image in test set\n",
    "dog_breed_predictions = [np.argmax(model.predict(np.expand_dims(tensor, axis=0))) for tensor in test_tensors]\n",
    "\n",
    "# report test accuracy\n",
    "test_accuracy = 100*np.sum(np.array(dog_breed_predictions)==np.argmax(test_targets, axis=1))/len(dog_breed_predictions)\n",
    "print('Test accuracy: %.4f%%' % test_accuracy)"
   ]
  },
  {
   "cell_type": "markdown",
   "metadata": {},
   "source": [
    "Training the model again with same no of epochs and batch size"
   ]
  },
  {
   "cell_type": "code",
   "execution_count": 14,
   "metadata": {},
   "outputs": [
    {
     "name": "stdout",
     "output_type": "stream",
     "text": [
      "Epoch 1/20\n",
      "334/334 [==============================] - 78s 233ms/step - loss: 1.6255 - acc: 0.5332 - val_loss: 1.8885 - val_acc: 0.4647\n",
      "\n",
      "Epoch 00001: val_loss improved from 1.92500 to 1.88854, saving model to saved_models/weights.Assignment-4.5\n",
      "Epoch 2/20\n",
      "334/334 [==============================] - 76s 227ms/step - loss: 1.5761 - acc: 0.5374 - val_loss: 1.9149 - val_acc: 0.4850\n",
      "\n",
      "Epoch 00002: val_loss did not improve\n",
      "Epoch 3/20\n",
      "334/334 [==============================] - 76s 227ms/step - loss: 1.5239 - acc: 0.5476 - val_loss: 1.8440 - val_acc: 0.4946\n",
      "\n",
      "Epoch 00003: val_loss improved from 1.88854 to 1.84403, saving model to saved_models/weights.Assignment-4.5\n",
      "Epoch 4/20\n",
      "334/334 [==============================] - 77s 230ms/step - loss: 1.4544 - acc: 0.5728 - val_loss: 1.9025 - val_acc: 0.4886\n",
      "\n",
      "Epoch 00004: val_loss did not improve\n",
      "Epoch 5/20\n",
      "334/334 [==============================] - 76s 226ms/step - loss: 1.4191 - acc: 0.5771 - val_loss: 1.8013 - val_acc: 0.5162\n",
      "\n",
      "Epoch 00005: val_loss improved from 1.84403 to 1.80134, saving model to saved_models/weights.Assignment-4.5\n",
      "Epoch 6/20\n",
      "334/334 [==============================] - 77s 230ms/step - loss: 1.3479 - acc: 0.5945 - val_loss: 1.8557 - val_acc: 0.5018\n",
      "\n",
      "Epoch 00006: val_loss did not improve\n",
      "Epoch 7/20\n",
      "334/334 [==============================] - 76s 227ms/step - loss: 1.3128 - acc: 0.6075 - val_loss: 1.8396 - val_acc: 0.5078\n",
      "\n",
      "Epoch 00007: val_loss did not improve\n",
      "Epoch 8/20\n",
      "334/334 [==============================] - 77s 231ms/step - loss: 1.2760 - acc: 0.6172 - val_loss: 1.7991 - val_acc: 0.5257\n",
      "\n",
      "Epoch 00008: val_loss improved from 1.80134 to 1.79910, saving model to saved_models/weights.Assignment-4.5\n",
      "Epoch 9/20\n",
      "334/334 [==============================] - 76s 229ms/step - loss: 1.2094 - acc: 0.6349 - val_loss: 1.6950 - val_acc: 0.5449\n",
      "\n",
      "Epoch 00009: val_loss improved from 1.79910 to 1.69496, saving model to saved_models/weights.Assignment-4.5\n",
      "Epoch 10/20\n",
      "334/334 [==============================] - 76s 229ms/step - loss: 1.1911 - acc: 0.6395 - val_loss: 1.8395 - val_acc: 0.4994\n",
      "\n",
      "Epoch 00010: val_loss did not improve\n",
      "Epoch 11/20\n",
      "334/334 [==============================] - 76s 228ms/step - loss: 1.1580 - acc: 0.6488 - val_loss: 1.6806 - val_acc: 0.5293\n",
      "\n",
      "Epoch 00011: val_loss improved from 1.69496 to 1.68065, saving model to saved_models/weights.Assignment-4.5\n",
      "Epoch 12/20\n",
      "334/334 [==============================] - 76s 229ms/step - loss: 1.1290 - acc: 0.6557 - val_loss: 1.6589 - val_acc: 0.5509\n",
      "\n",
      "Epoch 00012: val_loss improved from 1.68065 to 1.65895, saving model to saved_models/weights.Assignment-4.5\n",
      "Epoch 13/20\n",
      "334/334 [==============================] - 76s 228ms/step - loss: 1.0851 - acc: 0.6696 - val_loss: 1.6199 - val_acc: 0.5713\n",
      "\n",
      "Epoch 00013: val_loss improved from 1.65895 to 1.61990, saving model to saved_models/weights.Assignment-4.5\n",
      "Epoch 14/20\n",
      "334/334 [==============================] - 76s 229ms/step - loss: 1.0220 - acc: 0.6891 - val_loss: 1.7053 - val_acc: 0.5317\n",
      "\n",
      "Epoch 00014: val_loss did not improve\n",
      "Epoch 15/20\n",
      "334/334 [==============================] - 77s 230ms/step - loss: 1.0464 - acc: 0.6814 - val_loss: 1.6525 - val_acc: 0.5437\n",
      "\n",
      "Epoch 00015: val_loss did not improve\n",
      "Epoch 16/20\n",
      "334/334 [==============================] - 76s 226ms/step - loss: 1.0224 - acc: 0.6901 - val_loss: 1.7304 - val_acc: 0.5425\n",
      "\n",
      "Epoch 00016: val_loss did not improve\n",
      "Epoch 17/20\n",
      "334/334 [==============================] - 77s 230ms/step - loss: 1.0116 - acc: 0.6889 - val_loss: 1.6388 - val_acc: 0.5437\n",
      "\n",
      "Epoch 00017: val_loss did not improve\n",
      "Epoch 18/20\n",
      "334/334 [==============================] - 76s 227ms/step - loss: 0.9666 - acc: 0.6994 - val_loss: 1.7146 - val_acc: 0.5365\n",
      "\n",
      "Epoch 00018: val_loss did not improve\n",
      "Epoch 19/20\n",
      "334/334 [==============================] - 76s 226ms/step - loss: 0.9392 - acc: 0.7085 - val_loss: 1.7263 - val_acc: 0.5509\n",
      "\n",
      "Epoch 00019: val_loss did not improve\n",
      "Epoch 20/20\n",
      "334/334 [==============================] - 77s 230ms/step - loss: 0.9131 - acc: 0.7145 - val_loss: 1.6482 - val_acc: 0.5617\n",
      "\n",
      "Epoch 00020: val_loss did not improve\n"
     ]
    }
   ],
   "source": [
    "epochs = 20\n",
    "batch_size = 20\n",
    "\n",
    "history = model.fit_generator(datagen.flow(train_tensors, train_targets, batch_size=batch_size),\n",
    "                    validation_data=(valid_tensors, valid_targets), \n",
    "                    steps_per_epoch=train_tensors.shape[0] // batch_size,\n",
    "                    epochs=epochs, callbacks=[checkpointer], verbose=1)"
   ]
  },
  {
   "cell_type": "markdown",
   "metadata": {},
   "source": [
    "Training the model again with different no of epochs and batch size to see if accuracy improves or not"
   ]
  },
  {
   "cell_type": "code",
   "execution_count": 15,
   "metadata": {},
   "outputs": [
    {
     "name": "stdout",
     "output_type": "stream",
     "text": [
      "Epoch 1/25\n",
      "133/133 [==============================] - 76s 570ms/step - loss: 0.6598 - acc: 0.7929 - val_loss: 1.4724 - val_acc: 0.6048\n",
      "\n",
      "Epoch 00001: val_loss improved from 1.61990 to 1.47244, saving model to saved_models/weights.Assignment-4.5\n",
      "Epoch 2/25\n",
      "133/133 [==============================] - 75s 562ms/step - loss: 0.5672 - acc: 0.8149 - val_loss: 1.4722 - val_acc: 0.6120\n",
      "\n",
      "Epoch 00002: val_loss improved from 1.47244 to 1.47221, saving model to saved_models/weights.Assignment-4.5\n",
      "Epoch 3/25\n",
      "133/133 [==============================] - 74s 556ms/step - loss: 0.5374 - acc: 0.8267 - val_loss: 1.4805 - val_acc: 0.6120\n",
      "\n",
      "Epoch 00003: val_loss did not improve\n",
      "Epoch 4/25\n",
      "133/133 [==============================] - 74s 557ms/step - loss: 0.5287 - acc: 0.8303 - val_loss: 1.4410 - val_acc: 0.6168\n",
      "\n",
      "Epoch 00004: val_loss improved from 1.47221 to 1.44104, saving model to saved_models/weights.Assignment-4.5\n",
      "Epoch 5/25\n",
      "133/133 [==============================] - 74s 553ms/step - loss: 0.5180 - acc: 0.8276 - val_loss: 1.5502 - val_acc: 0.6072\n",
      "\n",
      "Epoch 00005: val_loss did not improve\n",
      "Epoch 6/25\n",
      "133/133 [==============================] - 75s 563ms/step - loss: 0.5030 - acc: 0.8417 - val_loss: 1.4906 - val_acc: 0.6323\n",
      "\n",
      "Epoch 00006: val_loss did not improve\n",
      "Epoch 7/25\n",
      "133/133 [==============================] - 74s 554ms/step - loss: 0.5007 - acc: 0.8359 - val_loss: 1.6090 - val_acc: 0.6072\n",
      "\n",
      "Epoch 00007: val_loss did not improve\n",
      "Epoch 8/25\n",
      "133/133 [==============================] - 74s 560ms/step - loss: 0.4921 - acc: 0.8390 - val_loss: 1.5373 - val_acc: 0.6132\n",
      "\n",
      "Epoch 00008: val_loss did not improve\n",
      "Epoch 9/25\n",
      "133/133 [==============================] - 74s 557ms/step - loss: 0.4770 - acc: 0.8422 - val_loss: 1.5623 - val_acc: 0.6251\n",
      "\n",
      "Epoch 00009: val_loss did not improve\n",
      "Epoch 10/25\n",
      "133/133 [==============================] - 74s 556ms/step - loss: 0.4852 - acc: 0.8465 - val_loss: 1.5820 - val_acc: 0.5904\n",
      "\n",
      "Epoch 00010: val_loss did not improve\n",
      "Epoch 11/25\n",
      "133/133 [==============================] - 74s 556ms/step - loss: 0.4726 - acc: 0.8471 - val_loss: 1.5415 - val_acc: 0.6287\n",
      "\n",
      "Epoch 00011: val_loss did not improve\n",
      "Epoch 12/25\n",
      "133/133 [==============================] - 74s 559ms/step - loss: 0.4614 - acc: 0.8511 - val_loss: 1.5626 - val_acc: 0.6024\n",
      "\n",
      "Epoch 00012: val_loss did not improve\n",
      "Epoch 13/25\n",
      "133/133 [==============================] - 74s 560ms/step - loss: 0.4509 - acc: 0.8506 - val_loss: 1.5844 - val_acc: 0.6192\n",
      "\n",
      "Epoch 00013: val_loss did not improve\n",
      "Epoch 14/25\n",
      "133/133 [==============================] - 74s 559ms/step - loss: 0.4580 - acc: 0.8518 - val_loss: 1.6380 - val_acc: 0.5988\n",
      "\n",
      "Epoch 00014: val_loss did not improve\n",
      "Epoch 15/25\n",
      "133/133 [==============================] - 75s 561ms/step - loss: 0.4388 - acc: 0.8593 - val_loss: 1.5781 - val_acc: 0.6204\n",
      "\n",
      "Epoch 00015: val_loss did not improve\n",
      "Epoch 16/25\n",
      "133/133 [==============================] - 74s 556ms/step - loss: 0.4276 - acc: 0.8616 - val_loss: 1.6064 - val_acc: 0.5976\n",
      "\n",
      "Epoch 00016: val_loss did not improve\n",
      "Epoch 17/25\n",
      "133/133 [==============================] - 74s 559ms/step - loss: 0.4167 - acc: 0.8671 - val_loss: 1.6444 - val_acc: 0.5976\n",
      "\n",
      "Epoch 00017: val_loss did not improve\n",
      "Epoch 18/25\n",
      "133/133 [==============================] - 74s 559ms/step - loss: 0.4125 - acc: 0.8655 - val_loss: 1.6980 - val_acc: 0.6060\n",
      "\n",
      "Epoch 00018: val_loss did not improve\n",
      "Epoch 19/25\n",
      "133/133 [==============================] - 74s 555ms/step - loss: 0.4165 - acc: 0.8626 - val_loss: 1.7511 - val_acc: 0.5856\n",
      "\n",
      "Epoch 00019: val_loss did not improve\n",
      "Epoch 20/25\n",
      "133/133 [==============================] - 74s 555ms/step - loss: 0.4217 - acc: 0.8599 - val_loss: 1.6530 - val_acc: 0.6060\n",
      "\n",
      "Epoch 00020: val_loss did not improve\n",
      "Epoch 21/25\n",
      "133/133 [==============================] - 74s 557ms/step - loss: 0.4197 - acc: 0.8598 - val_loss: 1.6307 - val_acc: 0.6072\n",
      "\n",
      "Epoch 00021: val_loss did not improve\n",
      "Epoch 22/25\n",
      "133/133 [==============================] - 74s 557ms/step - loss: 0.4047 - acc: 0.8619 - val_loss: 1.7112 - val_acc: 0.5856\n",
      "\n",
      "Epoch 00022: val_loss did not improve\n",
      "Epoch 23/25\n",
      "133/133 [==============================] - 74s 557ms/step - loss: 0.4203 - acc: 0.8593 - val_loss: 1.6715 - val_acc: 0.6000\n",
      "\n",
      "Epoch 00023: val_loss did not improve\n",
      "Epoch 24/25\n",
      "133/133 [==============================] - 74s 554ms/step - loss: 0.4077 - acc: 0.8649 - val_loss: 1.8896 - val_acc: 0.5629\n",
      "\n",
      "Epoch 00024: val_loss did not improve\n",
      "Epoch 25/25\n",
      "133/133 [==============================] - 74s 557ms/step - loss: 0.3924 - acc: 0.8686 - val_loss: 1.8263 - val_acc: 0.5856\n",
      "\n",
      "Epoch 00025: val_loss did not improve\n"
     ]
    }
   ],
   "source": [
    "epochs = 25\n",
    "batch_size = 50\n",
    "\n",
    "history = model.fit_generator(datagen.flow(train_tensors, train_targets, batch_size=batch_size),\n",
    "                    validation_data=(valid_tensors, valid_targets), \n",
    "                    steps_per_epoch=train_tensors.shape[0] // batch_size,\n",
    "                    epochs=epochs, callbacks=[checkpointer], verbose=1)"
   ]
  },
  {
   "cell_type": "code",
   "execution_count": 16,
   "metadata": {},
   "outputs": [
    {
     "name": "stdout",
     "output_type": "stream",
     "text": [
      "Epoch 1/25\n",
      "133/133 [==============================] - 75s 561ms/step - loss: 0.3921 - acc: 0.8688 - val_loss: 1.6847 - val_acc: 0.5892\n",
      "\n",
      "Epoch 00001: val_loss did not improve\n",
      "Epoch 2/25\n",
      "133/133 [==============================] - 74s 560ms/step - loss: 0.3937 - acc: 0.8709 - val_loss: 1.7439 - val_acc: 0.5928\n",
      "\n",
      "Epoch 00002: val_loss did not improve\n",
      "Epoch 3/25\n",
      "133/133 [==============================] - 74s 554ms/step - loss: 0.3764 - acc: 0.8761 - val_loss: 1.8247 - val_acc: 0.5808\n",
      "\n",
      "Epoch 00003: val_loss did not improve\n",
      "Epoch 4/25\n",
      "133/133 [==============================] - 74s 558ms/step - loss: 0.3360 - acc: 0.8892 - val_loss: 1.6993 - val_acc: 0.5928\n",
      "\n",
      "Epoch 00004: val_loss did not improve\n",
      "Epoch 5/25\n",
      "133/133 [==============================] - 74s 558ms/step - loss: 0.3675 - acc: 0.8786 - val_loss: 1.7735 - val_acc: 0.6036\n",
      "\n",
      "Epoch 00005: val_loss did not improve\n",
      "Epoch 6/25\n",
      "133/133 [==============================] - 74s 556ms/step - loss: 0.3621 - acc: 0.8778 - val_loss: 1.7525 - val_acc: 0.6012\n",
      "\n",
      "Epoch 00006: val_loss did not improve\n",
      "Epoch 7/25\n",
      "133/133 [==============================] - 74s 557ms/step - loss: 0.3636 - acc: 0.8830 - val_loss: 1.8267 - val_acc: 0.6012\n",
      "\n",
      "Epoch 00007: val_loss did not improve\n",
      "Epoch 8/25\n",
      "133/133 [==============================] - 74s 559ms/step - loss: 0.3525 - acc: 0.8834 - val_loss: 1.7478 - val_acc: 0.5868\n",
      "\n",
      "Epoch 00008: val_loss did not improve\n",
      "Epoch 9/25\n",
      "133/133 [==============================] - 74s 555ms/step - loss: 0.3340 - acc: 0.8909 - val_loss: 1.7737 - val_acc: 0.5904\n",
      "\n",
      "Epoch 00009: val_loss did not improve\n",
      "Epoch 10/25\n",
      "133/133 [==============================] - 74s 559ms/step - loss: 0.3479 - acc: 0.8874 - val_loss: 1.8402 - val_acc: 0.6168\n",
      "\n",
      "Epoch 00010: val_loss did not improve\n",
      "Epoch 11/25\n",
      "133/133 [==============================] - 74s 556ms/step - loss: 0.3303 - acc: 0.8894 - val_loss: 1.8172 - val_acc: 0.5832\n",
      "\n",
      "Epoch 00011: val_loss did not improve\n",
      "Epoch 12/25\n",
      "133/133 [==============================] - 74s 557ms/step - loss: 0.3427 - acc: 0.8879 - val_loss: 1.7899 - val_acc: 0.5725\n",
      "\n",
      "Epoch 00012: val_loss did not improve\n",
      "Epoch 13/25\n",
      "133/133 [==============================] - 74s 554ms/step - loss: 0.3220 - acc: 0.8979 - val_loss: 1.8314 - val_acc: 0.5964\n",
      "\n",
      "Epoch 00013: val_loss did not improve\n",
      "Epoch 14/25\n",
      "133/133 [==============================] - 74s 559ms/step - loss: 0.3447 - acc: 0.8861 - val_loss: 1.7642 - val_acc: 0.6156\n",
      "\n",
      "Epoch 00014: val_loss did not improve\n",
      "Epoch 15/25\n",
      "133/133 [==============================] - 74s 557ms/step - loss: 0.3397 - acc: 0.8873 - val_loss: 1.8446 - val_acc: 0.5856\n",
      "\n",
      "Epoch 00015: val_loss did not improve\n",
      "Epoch 16/25\n",
      "133/133 [==============================] - 74s 555ms/step - loss: 0.3110 - acc: 0.8978 - val_loss: 1.8177 - val_acc: 0.5976\n",
      "\n",
      "Epoch 00016: val_loss did not improve\n",
      "Epoch 17/25\n",
      "133/133 [==============================] - 74s 558ms/step - loss: 0.2913 - acc: 0.9048 - val_loss: 1.9129 - val_acc: 0.5892\n",
      "\n",
      "Epoch 00017: val_loss did not improve\n",
      "Epoch 18/25\n",
      "133/133 [==============================] - 74s 556ms/step - loss: 0.3272 - acc: 0.8901 - val_loss: 1.8188 - val_acc: 0.5964\n",
      "\n",
      "Epoch 00018: val_loss did not improve\n",
      "Epoch 19/25\n",
      "133/133 [==============================] - 75s 563ms/step - loss: 0.3038 - acc: 0.8991 - val_loss: 1.8797 - val_acc: 0.5892\n",
      "\n",
      "Epoch 00019: val_loss did not improve\n",
      "Epoch 20/25\n",
      "133/133 [==============================] - 74s 558ms/step - loss: 0.3150 - acc: 0.8992 - val_loss: 1.7959 - val_acc: 0.6180\n",
      "\n",
      "Epoch 00020: val_loss did not improve\n",
      "Epoch 21/25\n",
      "133/133 [==============================] - 74s 554ms/step - loss: 0.3026 - acc: 0.9030 - val_loss: 1.7364 - val_acc: 0.6228\n",
      "\n",
      "Epoch 00021: val_loss did not improve\n",
      "Epoch 22/25\n",
      "133/133 [==============================] - 75s 561ms/step - loss: 0.3201 - acc: 0.8955 - val_loss: 1.8696 - val_acc: 0.5880\n",
      "\n",
      "Epoch 00022: val_loss did not improve\n",
      "Epoch 23/25\n",
      "133/133 [==============================] - 74s 556ms/step - loss: 0.3086 - acc: 0.8998 - val_loss: 1.8542 - val_acc: 0.6048\n",
      "\n",
      "Epoch 00023: val_loss did not improve\n",
      "Epoch 24/25\n",
      "133/133 [==============================] - 75s 562ms/step - loss: 0.2909 - acc: 0.9047 - val_loss: 1.8173 - val_acc: 0.5952\n",
      "\n",
      "Epoch 00024: val_loss did not improve\n",
      "Epoch 25/25\n",
      "133/133 [==============================] - 74s 557ms/step - loss: 0.3057 - acc: 0.8984 - val_loss: 2.0513 - val_acc: 0.5701\n",
      "\n",
      "Epoch 00025: val_loss did not improve\n"
     ]
    }
   ],
   "source": [
    "epochs = 25\n",
    "batch_size = 50\n",
    "\n",
    "history = model.fit_generator(datagen.flow(train_tensors, train_targets, batch_size=batch_size),\n",
    "                    validation_data=(valid_tensors, valid_targets), \n",
    "                    steps_per_epoch=train_tensors.shape[0] // batch_size,\n",
    "                    epochs=epochs, callbacks=[checkpointer], verbose=1)"
   ]
  },
  {
   "cell_type": "markdown",
   "metadata": {},
   "source": [
    "# Calulating the Accuracy of Model Again"
   ]
  },
  {
   "cell_type": "code",
   "execution_count": 17,
   "metadata": {},
   "outputs": [
    {
     "name": "stdout",
     "output_type": "stream",
     "text": [
      "Test accuracy: 60.8852%\n"
     ]
    }
   ],
   "source": [
    "# get index of predicted dog breed for each image in test set\n",
    "dog_breed_predictions = [np.argmax(model.predict(np.expand_dims(tensor, axis=0))) for tensor in test_tensors]\n",
    "\n",
    "# report test accuracy\n",
    "test_accuracy = 100*np.sum(np.array(dog_breed_predictions)==np.argmax(test_targets, axis=1))/len(dog_breed_predictions)\n",
    "print('Test accuracy: %.4f%%' % test_accuracy)"
   ]
  },
  {
   "cell_type": "markdown",
   "metadata": {},
   "source": [
    "# Plotting the graph for Accuracy vs Validation Accuracy"
   ]
  },
  {
   "cell_type": "code",
   "execution_count": 20,
   "metadata": {},
   "outputs": [
    {
     "data": {
      "image/png": "[encoded data removed]",
      "text/plain": [
       "<Figure size 432x288 with 1 Axes>"
      ]
     },
     "metadata": {},
     "output_type": "display_data"
    }
   ],
   "source": [
    "import matplotlib.pyplot as plt\n",
    "plt.plot(history.history['acc'])\n",
    "plt.plot(history.history['val_acc'])\n",
    "plt.title('model accuracy')\n",
    "plt.ylabel('accuracy')\n",
    "plt.xlabel('epochs')\n",
    "plt.legend(['train', 'test'], loc='upper left')\n",
    "plt.show()"
   ]
  },
  {
   "cell_type": "markdown",
   "metadata": {},
   "source": [
    "# Plotting the graph for Loss vs Validation Loss"
   ]
  },
  {
   "cell_type": "code",
   "execution_count": 21,
   "metadata": {},
   "outputs": [
    {
     "data": {
      "image/png": "[encoded data removed]",
      "text/plain": [
       "<Figure size 432x288 with 1 Axes>"
      ]
     },
     "metadata": {},
     "output_type": "display_data"
    }
   ],
   "source": [
    "plt.plot(history.history['loss'])\n",
    "plt.plot(history.history['val_loss'])\n",
    "plt.title('model loss')\n",
    "plt.ylabel('loss')\n",
    "plt.xlabel('epochs')\n",
    "plt.legend(['train', 'test'], loc='upper left')\n",
    "plt.show()"
   ]
  },
  {
   "cell_type": "markdown",
   "metadata": {},
   "source": [
    "# References"
   ]
  },
  {
   "cell_type": "code",
   "execution_count": null,
   "metadata": {},
   "outputs": [],
   "source": [
    "# Dataset \n",
    "\n",
    "# Dog Images :  https://s3-us-west-1.amazonaws.com/udacity-aind/dog-project/dogImages.zip\n",
    "\n",
    "\n",
    "\n",
    "# References \n",
    "\n",
    "# https://www.researchgate.net/publication/283813525_Dog_breed_classification_via_landmarks\n",
    "# https://web.stanford.edu/class/cs231a/prev_projects_2016/output%20(1).pdf\n",
    "# http://cs231n.stanford.edu/reports/2015/pdfs/automatic-dog-breed.pdf\n",
    "# https://pdfs.semanticscholar.org/d58a/663d775c3ef6398d605b6d6dbd02fb3d8725.pdf\n",
    "# https://github.com/nikbearbrown/NEU_COE\n",
    "# Keras Documentation for Designing our own CNN : https://keras.io/\n",
    "# Batch normalization in Neural Networks : https://towardsdatascience.com/batch-normalization-in-neural-networks-1ac91516821c\n",
    "# Image Augmenatation : https://towardsdatascience.com/image-augmentation-for-deep-learning-histogram-equalization-a71387f609b2\n",
    "# Image Augmentation for Deep Learning With Keras : https://machinelearningmastery.com/image-augmentation-deep-learning-keras/\n",
    "# Deep learning and the rise of the GPU : https://www.ibm.com/developerworks/library/cc-machine-learning-deep-learning-architectures/index.html\n",
    "# CNN : https://en.wikipedia.org/wiki/Convolutional_neural_network\n",
    "# Deep learning architectures : https://www.ibm.com/developerworks/library/cc-machine-learning-deep-learning-architectures/index.html\n",
    "\n",
    "# YouTube References\n",
    "\n",
    "# https://www.youtube.com/watch?v=aircAruvnKk\n",
    "# https://www.youtube.com/watch?v=IHZwWFHWa-w\n",
    "# https://www.youtube.com/watch?v=Ilg3gGewQ5U\n",
    "# MIT 6.S191: Introduction to Deep Learning https://youtu.be/JN6H4rQvwgY\n",
    "# TensorFlow 101 (Really Awesome Intro Into TensorFlow) https://youtu.be/oxf3o8IbCk4\n",
    "# Introduction to TensorFlow Tutorials https://youtu.be/er8RQZoX3yk\n"
   ]
  },
  {
   "cell_type": "markdown",
   "metadata": {},
   "source": [
    "# Licenses"
   ]
  },
  {
   "cell_type": "markdown",
   "metadata": {},
   "source": [
    "<a rel=\"license\" href=\"http://creativecommons.org/licenses/by/3.0/us/\"><img alt=\"Creative Commons License\" style=\"border-width:0\" src=\"https://i.creativecommons.org/l/by/3.0/us/88x31.png\" /></a><br>The text in the document by NISHANT GOHEL and KARAN BHAVSAR is licensed under <a rel=\"license\" href=\"http://creativecommons.org/licenses/by/3.0/us/\">Creative Commons Attribution 3.0 United States License</a>.<br><br>\n",
    "\n",
    "\n",
    "The code in the document by NISHANT GOHEL and KARAN BHAVSAR is licensed under the MIT License https://opensource.org/licenses/MIT"
   ]
  },
  {
   "cell_type": "code",
   "execution_count": null,
   "metadata": {},
   "outputs": [],
   "source": []
  }
 ],
 "metadata": {
  "kernelspec": {
   "display_name": "Python 3",
   "language": "python",
   "name": "python3"
  },
  "language_info": {
   "codemirror_mode": {
    "name": "ipython",
    "version": 3
   },
   "file_extension": ".py",
   "mimetype": "text/x-python",
   "name": "python",
   "nbconvert_exporter": "python",
   "pygments_lexer": "ipython3",
   "version": "3.6.4"
  }
 },
 "nbformat": 4,
 "nbformat_minor": 2
}
